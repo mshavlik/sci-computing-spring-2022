{
 "cells": [
  {
   "cell_type": "markdown",
   "metadata": {},
   "source": [
    "## Problem Set 1\n",
    "The fraction of a titratable group in the protonated state is given by $$f_{protonated} = \\frac{[H^{+}]}{[H^{+}]+K_{a}}$$ Likewise, the fraction in the deprotonated state is given by $$f_{protonated} = \\frac{K_{a}}{[H^{+}]+K_{a}}$$ The $pK_{a}s$ for titratable groups in proteins are: pKa's: N-terminus: 9.5, C-terminus: 2.2, K: 10.3, R: 12.5, H: 6, D: 3.9, E: 4.1, C: 8.4, Y: 10.5\n",
    "\n",
    "**Problem 1**. Use python to calculate the fraction of a cysteine side chain in its protonated form at pH 7.9. Use the print function so that the output is formatted as follows: `The fraction of the cysteine side chain in its protonated form at pH 7.9 is [the value you calculated]`"
   ]
  },
  {
   "cell_type": "code",
   "execution_count": 1,
   "metadata": {},
   "outputs": [],
   "source": [
    "# Problem 1"
   ]
  },
  {
   "cell_type": "markdown",
   "metadata": {},
   "source": [
    "The fraction of a polyprotic molecule (one with multiple titratable groups) in a particular titration state can be calculated by multiplying the fraction of each group. For example, the fraction of the cysteine amino acid with amine protonated, side chain protonated, and acid deprotonated (i.e. net charge zero) is given by $$f_{Cys,+H-} = \\frac{[H^{+}]}{[H^{+}]+K_{a,amine}}\\frac{[H^{+}]}{[H^{+}]+K_{a,side chain}}\\frac{K_{a, acid}}{[H^{+}]+K_{a, acid}}$$ **Problem 2**. Use python to calculate the fraction of the dipeptide HC with amino terminus protonated, both side chains protonated, and carboxy terminus deprotonated at pH 7."
   ]
  },
  {
   "cell_type": "code",
   "execution_count": 2,
   "metadata": {},
   "outputs": [],
   "source": [
    "# Problem 2"
   ]
  },
  {
   "cell_type": "markdown",
   "metadata": {},
   "source": [
    "The fraction of a receptor bound to ligand is given by the following expression $$f_{b} = \\frac{[L]_{t} + [R]_{t} + K_{d} - \\sqrt{(-[L]_{t} - [R]_{t} - K_{d})^{2} - 4[R]_{t}[L]_{t}}}{2[R]_{t}}$$ **Problem 3**. Use python to calculate the fraction of the Lambda repressor protein bound to its operator DNA site if $[Repressor]_{t}$ is 100 nM, $[Operator]_{t}$ is 80 nM, and $K_{d}$ is 60 nM."
   ]
  },
  {
   "cell_type": "code",
   "execution_count": 3,
   "metadata": {},
   "outputs": [],
   "source": [
    "# Problem 3"
   ]
  },
  {
   "cell_type": "markdown",
   "metadata": {},
   "source": [
    "**Problem 4** Write a function called `fraction_bound` that takes three arguments Lt, Rt, Kd and returns the fraction of receptor bound to ligand."
   ]
  },
  {
   "cell_type": "code",
   "execution_count": null,
   "metadata": {},
   "outputs": [],
   "source": [
    "# Problem 4"
   ]
  }
 ],
 "metadata": {
  "interpreter": {
   "hash": "852f78508c5f7a507a1ab4309e6af0cebe574b7ca2bc540bed07c3f6c38dd743"
  },
  "kernelspec": {
   "display_name": "Python 3.9.10 ('base')",
   "language": "python",
   "name": "python392jvsc74a57bd022f329c98ac69576a00bdd76f5de546daed0e01341e906b81f75920ec5bfa66f"
  },
  "language_info": {
   "codemirror_mode": {
    "name": "ipython",
    "version": 3
   },
   "file_extension": ".py",
   "mimetype": "text/x-python",
   "name": "python",
   "nbconvert_exporter": "python",
   "pygments_lexer": "ipython3",
   "version": "3.9.7"
  },
  "orig_nbformat": 4
 },
 "nbformat": 4,
 "nbformat_minor": 2
}
