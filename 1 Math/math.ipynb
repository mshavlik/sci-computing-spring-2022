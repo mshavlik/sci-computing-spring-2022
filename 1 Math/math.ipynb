{
 "cells": [
  {
   "cell_type": "markdown",
   "metadata": {},
   "source": [
    "# Introduction to math with Python and using notebooks\n",
    "\n",
    "Normal python files (.py) only contain python statements and expressions. Python notebooks (.ipynb) contain *cells* than can have python but also the results of cells (including graphics and interactive components) and structured text (markdown). Having the ability to include formatted notes and graphical output in the same file is very powerful. One minor downside is that the notebook file cannot be directly executed by the python interpreter. Let's run some python! If python is worth its salt, it better be able to take advantage of the computers ability to do math quickly. Let's try some basic operations. When using a notebook remember that\n",
    "* you must select the python interpreter to use\n",
    "* you can execute a cell by clicking play or by pressing shift+enter while your cursor is in a cell"
   ]
  },
  {
   "cell_type": "markdown",
   "metadata": {},
   "source": [
    "The basic mathematical operators (`+,-,*,/`) work as expected, with the asterisk and slash used for multiplication and division. Parentheses can be used to force the order of operations, otherwise the standard order is used for evaluating complex expressions."
   ]
  },
  {
   "cell_type": "code",
   "execution_count": null,
   "metadata": {},
   "outputs": [],
   "source": [
    "# Some basic math expressions\n",
    "# Addition, subtraction, multiplication, division are standard\n",
    "\n",
    "# Does the order of operations matter?\n",
    "\n",
    "# Try some parentheses to enforce order\n"
   ]
  },
  {
   "cell_type": "markdown",
   "metadata": {},
   "source": [
    "Note how the notebook outputs the result of the final expression in a notebook. This is handy but we can use the `print` function to force the result of an expression to be output."
   ]
  },
  {
   "cell_type": "code",
   "execution_count": null,
   "metadata": {},
   "outputs": [],
   "source": [
    "# The notebook outputs the last expression, but we can use the print function instead"
   ]
  },
  {
   "cell_type": "markdown",
   "metadata": {},
   "source": [
    "What about power and logarithms? We can use the power operator"
   ]
  },
  {
   "cell_type": "code",
   "execution_count": null,
   "metadata": {},
   "outputs": [],
   "source": [
    "# The power operator **\n",
    "\n",
    "# Recall that square roots are equivalent to the 1/2 power\n",
    "\n",
    "# Don't get confused by the power operator! It's '**' not '^', which does something different\n",
    "# Does 3^2 equal 3**2? Use the equality operator"
   ]
  },
  {
   "cell_type": "markdown",
   "metadata": {},
   "source": [
    "We can make use of python's powerful `math` module with includes expansive capabilities for performing mathematical operations. Modules provide additional capabilities that aren't present when the python interpreter is initially started. Some modules are included with python and these are called the *standard library*. Other modules must be installed separately. There is [documentation](https://docs.python.org/3/library/math.html) for the math module but we can also get information directly in the editor."
   ]
  },
  {
   "cell_type": "code",
   "execution_count": null,
   "metadata": {},
   "outputs": [],
   "source": [
    "import math\n",
    "# The import statement will put the math module in the variable 'math'.\n",
    "# Witness the power of autocomplete"
   ]
  },
  {
   "cell_type": "markdown",
   "metadata": {},
   "source": [
    "Python's ability to evaluate mathematical expressions makes for a handy calculator, but if we had to manipulate each operation individually, we would miss out on much of the power provided by the computer. Let's make a `list` of numbers and an `array` of numbers so we can begin to see how python allows us to modify more than one number concisely. This will also serve as an introduction to `numpy`, one of the key python modules that makes it so handy for scientific computing."
   ]
  },
  {
   "cell_type": "code",
   "execution_count": null,
   "metadata": {},
   "outputs": [],
   "source": [
    "import numpy as np\n",
    "\n",
    "# \"as\" lets us use shorthand - the numpy module is placed in the variable 'np' instead of 'numpy'\n",
    "\n",
    "# let's make a list containing 0 to 9 using the range and list functions\n",
    "\n",
    "# now let's make a numpy array using the list\n",
    "\n",
    "# we can perform operations on all items of the array\n",
    "\n",
    "# note that we can also use the multiply operator with lists but something different happens\n",
    "# and other mathematical operators don't work with lists and numbers\n"
   ]
  },
  {
   "cell_type": "markdown",
   "metadata": {},
   "source": [
    "### Why can a `numpy` array be added to a number, but a `list` can't?\n",
    "Symbols like '+' are *operators* and python looks on both sides of an operator to determine how to proceed. The result depends on the *types* of items. We've already seen that python knows to add the numbers together if there are numbers on both sides of the '+' operator and that it doesn't know what to do if a list is on one side and a number on the other. What about lists or arrays on both sides?"
   ]
  },
  {
   "cell_type": "markdown",
   "metadata": {},
   "source": [
    "# Recap\n",
    "We covered a lot in this first notebook and we'll spend the next few weeks filling in the gaps\n",
    "* mathematical operators with numbers (`+,-,*,/`)\n",
    "* the equality operator `==`\n",
    "* the boolean type (True or False)\n",
    "* the `print` function\n",
    "* the `math` module\n",
    "* the dot operator (e.g. `math.pi`)\n",
    "* introduction to lists and `numpy` arrays\n",
    "* the `range` and `list` functions\n",
    "* mathematical operations with `numpy` arrays"
   ]
  },
  {
   "cell_type": "markdown",
   "metadata": {},
   "source": []
  }
 ],
 "metadata": {
  "interpreter": {
   "hash": "852f78508c5f7a507a1ab4309e6af0cebe574b7ca2bc540bed07c3f6c38dd743"
  },
  "kernelspec": {
   "display_name": "Python 3.9.7 ('base')",
   "language": "python",
   "name": "python3"
  },
  "language_info": {
   "codemirror_mode": {
    "name": "ipython",
    "version": 3
   },
   "file_extension": ".py",
   "mimetype": "text/x-python",
   "name": "python",
   "nbconvert_exporter": "python",
   "pygments_lexer": "ipython3",
   "version": "3.9.10"
  },
  "orig_nbformat": 4
 },
 "nbformat": 4,
 "nbformat_minor": 2
}
